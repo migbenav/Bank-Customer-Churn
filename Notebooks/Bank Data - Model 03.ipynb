{
 "cells": [
  {
   "cell_type": "code",
   "execution_count": 1,
   "id": "fc76779a-a6dd-4ff8-90b8-4d0637a13da5",
   "metadata": {},
   "outputs": [],
   "source": [
    "%store -r df"
   ]
  },
  {
   "cell_type": "code",
   "execution_count": 51,
   "id": "6b1ed57b-f7c3-43c8-a7c0-5ca56b193e6b",
   "metadata": {},
   "outputs": [],
   "source": [
    "import pandas as pd\n",
    "from sklearn.model_selection import train_test_split\n",
    "from sklearn.preprocessing import OneHotEncoder\n",
    "from sklearn.compose import ColumnTransformer\n",
    "from sklearn.pipeline import Pipeline\n",
    "from xgboost import XGBClassifier\n",
    "from sklearn.metrics import classification_report\n",
    "\n",
    "df_copy = df.copy()\n",
    "\n",
    "df['Age_NumOfProducts'] = df['Age'] * df['NumOfProducts']  \n",
    "df['Age_IsActiveMemeber'] = df['Age'] * df['IsActiveMember']\n",
    "df['NumOfProducts_IsActive'] = df['NumOfProducts'] * df['IsActiveMember']\n",
    "\n",
    "# Preparing data for training\n",
    "X = df.drop(columns=['Exited', 'CustomerId', 'Surname'])  # Features\n",
    "X1 = X.copy()\n",
    "y = df['Exited']  # Target"
   ]
  },
  {
   "cell_type": "code",
   "execution_count": 53,
   "id": "83723e20-8ec8-4436-8074-2d57b93ca763",
   "metadata": {},
   "outputs": [],
   "source": [
    "# Spliting the data into train and test sets\n",
    "X1_train, X1_test, y1_train, y1_test = train_test_split(X1, y, test_size=0.2, random_state=99, stratify=y)"
   ]
  },
  {
   "cell_type": "code",
   "execution_count": 57,
   "id": "bad8bb2a-55a3-4cea-b227-0d0c6e05c6a6",
   "metadata": {},
   "outputs": [
    {
     "name": "stdout",
     "output_type": "stream",
     "text": [
      "              precision    recall  f1-score   support\n",
      "\n",
      "           0       0.88      0.97      0.92      1593\n",
      "           1       0.78      0.49      0.60       407\n",
      "\n",
      "    accuracy                           0.87      2000\n",
      "   macro avg       0.83      0.73      0.76      2000\n",
      "weighted avg       0.86      0.87      0.86      2000\n",
      "\n"
     ]
    }
   ],
   "source": [
    "# Building the model\n",
    "model = XGBClassifier(random_state=99, n_estimators=200, learning_rate=0.05)  # XGBoost classifier\n",
    "\n",
    "# Training the model\n",
    "model.fit(X1_train, y1_train)\n",
    "\n",
    "# Predictions\n",
    "y1_pred = model.predict(X1_test)\n",
    "\n",
    "# Evaluating the model\n",
    "print(classification_report(y1_test, y1_pred))"
   ]
  },
  {
   "cell_type": "markdown",
   "id": "3eb2ca81-2286-48d2-a2f2-b785bcd90bb5",
   "metadata": {},
   "source": [
    "----\n",
    "#### Precision for churners have a big improve\n",
    "----"
   ]
  },
  {
   "cell_type": "code",
   "execution_count": 59,
   "id": "5a82a241-9832-4ad7-8da3-c838e7b816b9",
   "metadata": {},
   "outputs": [],
   "source": [
    "X2 = X.copy()"
   ]
  },
  {
   "cell_type": "code",
   "execution_count": 63,
   "id": "b91295a8-a26a-4aba-b9eb-fdb2f5d83250",
   "metadata": {},
   "outputs": [],
   "source": [
    "X2 = X2.drop(columns=['CreditScore','HasCrCard','EstimatedSalary','HasZeroBalance'])"
   ]
  },
  {
   "cell_type": "code",
   "execution_count": 65,
   "id": "fcafe19c-d9b0-46f9-a31f-966fbf8b0672",
   "metadata": {},
   "outputs": [
    {
     "name": "stdout",
     "output_type": "stream",
     "text": [
      "              precision    recall  f1-score   support\n",
      "\n",
      "           0       0.88      0.96      0.92      1593\n",
      "           1       0.77      0.50      0.61       407\n",
      "\n",
      "    accuracy                           0.87      2000\n",
      "   macro avg       0.83      0.73      0.76      2000\n",
      "weighted avg       0.86      0.87      0.86      2000\n",
      "\n"
     ]
    }
   ],
   "source": [
    "# Spliting the data into train and test sets\n",
    "X2_train, X2_test, y2_train, y2_test = train_test_split(X2, y, test_size=0.2, random_state=99, stratify=y)\n",
    "# Building the model\n",
    "model = XGBClassifier(random_state=99, n_estimators=200, learning_rate=0.05)  # XGBoost classifier\n",
    "\n",
    "# Training the model\n",
    "model.fit(X2_train, y2_train)\n",
    "\n",
    "# Predictions\n",
    "y2_pred = model.predict(X2_test)\n",
    "\n",
    "# Evaluating the model\n",
    "print(classification_report(y2_test, y2_pred))"
   ]
  },
  {
   "cell_type": "markdown",
   "id": "5ae83965-8417-4698-9165-a44db7a88712",
   "metadata": {},
   "source": [
    "----\n",
    "#### Eliminating columns CreditScore, HasCrCard, EstimatedSalary, and HasZeroBalance didn't improve the model\n",
    "----"
   ]
  },
  {
   "cell_type": "code",
   "execution_count": 151,
   "id": "04d5398c-3b0d-4a67-b176-d8f98a85a9e9",
   "metadata": {},
   "outputs": [
    {
     "name": "stdout",
     "output_type": "stream",
     "text": [
      "              precision    recall  f1-score   support\n",
      "\n",
      "           0       0.88      0.97      0.92      1593\n",
      "           1       0.80      0.49      0.61       407\n",
      "\n",
      "    accuracy                           0.87      2000\n",
      "   macro avg       0.84      0.73      0.77      2000\n",
      "weighted avg       0.87      0.87      0.86      2000\n",
      "\n"
     ]
    }
   ],
   "source": [
    "X3 = X1.drop(columns='Age_IsActiveMemeber')\n",
    "\n",
    "# Spliting the data into train and test sets\n",
    "X3_train, X3_test, y3_train, y3_test = train_test_split(X3, y, test_size=0.2, random_state=99, stratify=y)\n",
    "# Building the model\n",
    "model = XGBClassifier(random_state=99, n_estimators=200, learning_rate=0.05)  # XGBoost classifier\n",
    "\n",
    "# Training the model\n",
    "model.fit(X3_train, y3_train)\n",
    "\n",
    "# Predictions\n",
    "y3_pred = model.predict(X3_test)\n",
    "\n",
    "# Evaluating the model\n",
    "print(classification_report(y3_test, y3_pred))"
   ]
  },
  {
   "cell_type": "markdown",
   "id": "95af48f2-9715-4a33-b310-fff8c44800b3",
   "metadata": {},
   "source": [
    "----\n",
    "#### Eliminating new feature Age_IsActiveMember improved precision by 3%\n",
    "----"
   ]
  },
  {
   "cell_type": "code",
   "execution_count": 135,
   "id": "57bd24b1-2b49-44bd-b65c-c8b8c48d1a14",
   "metadata": {},
   "outputs": [
    {
     "name": "stdout",
     "output_type": "stream",
     "text": [
      "Fitting 5 folds for each of 10 candidates, totalling 50 fits\n",
      "Best parameters found by RandomizedSearchCV:  {'subsample': 0.7, 'n_estimators': 300, 'max_depth': 3, 'learning_rate': 0.05}\n",
      "              precision    recall  f1-score   support\n",
      "\n",
      "           0       0.88      0.97      0.92      1593\n",
      "           1       0.80      0.49      0.61       407\n",
      "\n",
      "    accuracy                           0.87      2000\n",
      "   macro avg       0.84      0.73      0.77      2000\n",
      "weighted avg       0.87      0.87      0.86      2000\n",
      "\n"
     ]
    }
   ],
   "source": [
    "from sklearn.model_selection import RandomizedSearchCV\n",
    "\n",
    "# Define the hyperparameters to search\n",
    "param_dist = {\n",
    "    'learning_rate': [0.01, 0.05, 0.1, 0.2, 0.3],\n",
    "    'max_depth': [3, 5, 7, 9],\n",
    "    'n_estimators': [100, 200, 300, 400],\n",
    "    'subsample': [0.7, 0.8, 1.0]\n",
    "}\n",
    "\n",
    "# Create the XGBClassifier\n",
    "xgb_model = XGBClassifier(random_state=99)\n",
    "\n",
    "# Set up RandomizedSearchCV with 5-fold cross-validation\n",
    "random_search = RandomizedSearchCV(estimator=xgb_model, param_distributions=param_dist, n_iter=10, cv=5, verbose=1, random_state=99)\n",
    "\n",
    "# Fit the model\n",
    "random_search.fit(X3_train, y3_train)\n",
    "\n",
    "# Get the best parameters\n",
    "best_params_random = random_search.best_params_\n",
    "print(\"Best parameters found by RandomizedSearchCV: \", best_params_random)\n",
    "\n",
    "# Retrain the model with the best parameters\n",
    "best_xgb_random = random_search.best_estimator_\n",
    "\n",
    "# Evaluate the model\n",
    "y_pred_random = best_xgb_random.predict(X3_test)\n",
    "print(classification_report(y3_test, y3_pred))"
   ]
  },
  {
   "cell_type": "code",
   "execution_count": 169,
   "id": "9edcab8a-b1e3-4657-9cbc-a12ef1262c95",
   "metadata": {},
   "outputs": [
    {
     "name": "stdout",
     "output_type": "stream",
     "text": [
      "              precision    recall  f1-score   support\n",
      "\n",
      "           0       0.88      0.97      0.92      1593\n",
      "           1       0.81      0.49      0.61       407\n",
      "\n",
      "    accuracy                           0.87      2000\n",
      "   macro avg       0.84      0.73      0.77      2000\n",
      "weighted avg       0.87      0.87      0.86      2000\n",
      "\n"
     ]
    }
   ],
   "source": [
    "X4 = X3.copy()\n",
    "X4['Tenure_Age'] = X4['Tenure'] * X4['Age']\n",
    "\n",
    "# Spliting the data into train and test sets\n",
    "X4_train, X4_test, y4_train, y4_test = train_test_split(X4, y, test_size=0.2, random_state=99, stratify=y)\n",
    "# Building the model\n",
    "model = XGBClassifier(random_state=99, n_estimators=300, learning_rate=0.05)  # XGBoost classifier\n",
    "\n",
    "# Training the model\n",
    "model.fit(X4_train, y4_train)\n",
    "\n",
    "# Predictions\n",
    "y4_pred = model.predict(X4_test)\n",
    "\n",
    "# Evaluating the model\n",
    "print(classification_report(y4_test, y4_pred))"
   ]
  },
  {
   "cell_type": "markdown",
   "id": "0e16e99f-7626-48ad-9159-2fc96947f626",
   "metadata": {},
   "source": [
    "----\n",
    "#### Using the best parameters yields the same result. Adding the new feature Tenure_Age improved the precision of churners by 1%. The model has an accuracy of 87%, with both churners and non-churners being at least 80% precise. However, churners' recall remains low and needs improvement.\n",
    "----"
   ]
  }
 ],
 "metadata": {
  "kernelspec": {
   "display_name": "Python 3 (ipykernel)",
   "language": "python",
   "name": "python3"
  },
  "language_info": {
   "codemirror_mode": {
    "name": "ipython",
    "version": 3
   },
   "file_extension": ".py",
   "mimetype": "text/x-python",
   "name": "python",
   "nbconvert_exporter": "python",
   "pygments_lexer": "ipython3",
   "version": "3.12.3"
  }
 },
 "nbformat": 4,
 "nbformat_minor": 5
}

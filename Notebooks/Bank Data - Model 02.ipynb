{
 "cells": [
  {
   "cell_type": "code",
   "execution_count": 1,
   "id": "f76b687a-af1d-4b61-a03f-682746e882e9",
   "metadata": {},
   "outputs": [],
   "source": [
    "# Load stored variables\n",
    "%store -r X_resampled y_resampled y_test X_test"
   ]
  },
  {
   "cell_type": "markdown",
   "id": "13b2dd44-2a13-40db-b606-cf360338e738",
   "metadata": {},
   "source": [
    "----\n",
    "#### Building a model with XGBoost\n",
    "----"
   ]
  },
  {
   "cell_type": "code",
   "execution_count": 9,
   "id": "5cf0ea1c-9053-4a14-be71-e92c2c56cd6d",
   "metadata": {},
   "outputs": [],
   "source": [
    "import numpy as np\n",
    "from xgboost import XGBClassifier\n",
    "from sklearn.metrics import classification_report\n",
    "\n",
    "# Convert the DataFrame and Series to numpy arrays if they were loaded with %store\n",
    "X_resampled = np.array(X_resampled)\n",
    "y_resampled = np.array(y_resampled)\n",
    "y_test = np.array(y_test)\n",
    "X_test = np.array(X_test)"
   ]
  },
  {
   "cell_type": "code",
   "execution_count": 11,
   "id": "ef149a48-1524-4157-8dd4-495adbb50f54",
   "metadata": {},
   "outputs": [
    {
     "name": "stdout",
     "output_type": "stream",
     "text": [
      "              precision    recall  f1-score   support\n",
      "\n",
      "           0       0.93      0.81      0.86      1593\n",
      "           1       0.50      0.75      0.60       407\n",
      "\n",
      "    accuracy                           0.80      2000\n",
      "   macro avg       0.71      0.78      0.73      2000\n",
      "weighted avg       0.84      0.80      0.81      2000\n",
      "\n"
     ]
    }
   ],
   "source": [
    "churn_model = XGBClassifier(n_estimators=200, learning_rate=0.05, random_state=99)\n",
    "churn_model.fit(X_resampled, y_resampled)  #\n",
    "\n",
    "# Train the model\n",
    "y_pred = churn_model.predict(X_test)\n",
    "\n",
    "# Evaluate performance\n",
    "print(classification_report(y_test, y_pred))"
   ]
  },
  {
   "cell_type": "markdown",
   "id": "aa183fbc-df0f-4cf6-8cc0-65f8eb3a556c",
   "metadata": {},
   "source": [
    "----\n",
    "#### Key Improvements & Issues\n",
    "- Higher Accuracy (80%) → Big jump from 73% in Logistic Regression.\n",
    "- Higher Recall for Churners (75%) → The model is catching more churners.\n",
    "- Better F1-Score for Churners (0.60 vs. 0.48 in Logistic Regression).\n",
    "- Still Low Precision for Churners (0.50) → The model misclassifies some non-churners as churners."
   ]
  },
  {
   "cell_type": "markdown",
   "id": "32b2dda8-b8d9-4f29-be21-a2fc6b8f6f62",
   "metadata": {},
   "source": [
    "#### Looking for better parameters\n",
    "----"
   ]
  },
  {
   "cell_type": "code",
   "execution_count": 13,
   "id": "d9be75a6-9d60-4317-b64a-2beb18853bc3",
   "metadata": {},
   "outputs": [
    {
     "name": "stdout",
     "output_type": "stream",
     "text": [
      "Fitting 5 folds for each of 10 candidates, totalling 50 fits\n",
      "Best parameters found by RandomizedSearchCV:  {'subsample': 0.8, 'n_estimators': 100, 'max_depth': 9, 'learning_rate': 0.3}\n",
      "              precision    recall  f1-score   support\n",
      "\n",
      "           0       0.92      0.84      0.88      1593\n",
      "           1       0.53      0.72      0.61       407\n",
      "\n",
      "    accuracy                           0.81      2000\n",
      "   macro avg       0.72      0.78      0.74      2000\n",
      "weighted avg       0.84      0.81      0.82      2000\n",
      "\n"
     ]
    }
   ],
   "source": [
    "from sklearn.model_selection import RandomizedSearchCV\n",
    "\n",
    "# Define the hyperparameters to search\n",
    "param_dist = {\n",
    "    'learning_rate': [0.01, 0.05, 0.1, 0.2, 0.3],\n",
    "    'max_depth': [3, 5, 7, 9],\n",
    "    'n_estimators': [100, 200, 300, 400],\n",
    "    'subsample': [0.7, 0.8, 1.0]\n",
    "}\n",
    "\n",
    "# Create the XGBClassifier\n",
    "xgb_model = XGBClassifier(random_state=99)\n",
    "\n",
    "# Set up RandomizedSearchCV with 5-fold cross-validation\n",
    "random_search = RandomizedSearchCV(estimator=xgb_model, param_distributions=param_dist, n_iter=10, cv=5, verbose=1, random_state=99)\n",
    "\n",
    "# Fit the model\n",
    "random_search.fit(X_resampled, y_resampled)\n",
    "\n",
    "# Get the best parameters\n",
    "best_params_random = random_search.best_params_\n",
    "print(\"Best parameters found by RandomizedSearchCV: \", best_params_random)\n",
    "\n",
    "# Retrain the model with the best parameters\n",
    "best_xgb_random = random_search.best_estimator_\n",
    "\n",
    "# Evaluate the model\n",
    "y_pred_random = best_xgb_random.predict(X_test)\n",
    "print(classification_report(y_test, y_pred_random))"
   ]
  },
  {
   "cell_type": "markdown",
   "id": "dc210645-4984-478f-81aa-e5177e26efad",
   "metadata": {},
   "source": [
    "----\n",
    "#### It barely improved. Additional tuning is needed.\n",
    "----"
   ]
  }
 ],
 "metadata": {
  "kernelspec": {
   "display_name": "Python 3 (ipykernel)",
   "language": "python",
   "name": "python3"
  },
  "language_info": {
   "codemirror_mode": {
    "name": "ipython",
    "version": 3
   },
   "file_extension": ".py",
   "mimetype": "text/x-python",
   "name": "python",
   "nbconvert_exporter": "python",
   "pygments_lexer": "ipython3",
   "version": "3.12.3"
  }
 },
 "nbformat": 4,
 "nbformat_minor": 5
}
